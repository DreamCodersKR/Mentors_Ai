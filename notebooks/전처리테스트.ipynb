{
 "cells": [
  {
   "cell_type": "code",
   "execution_count": 3,
   "metadata": {},
   "outputs": [],
   "source": [
    "mentee = {\n",
    "    \"name\": \"한지우\",\n",
    "    \"interests\": [\n",
    "        \"모바일 앱 개발\",\n",
    "        \"머신러닝\",\n",
    "        \"엑셀 활용법\"\n",
    "    ],\n",
    "    \"level\": 1,\n",
    "    \"bio\": \"백엔드, AI, 빅데이터 , 엑셀 활용법에 관심 있는 초급 멘티입니다. 많은 것을 배우고 싶습니다.\"\n",
    "}"
   ]
  },
  {
   "cell_type": "code",
   "execution_count": 4,
   "metadata": {},
   "outputs": [],
   "source": [
    "mentors = [{\n",
    "        \"name\": \"송다은\",\n",
    "        \"expertise\": [\n",
    "            \"취업 및 이직\",\n",
    "            \"스피치 발표\",\n",
    "            \"생산성 툴\"\n",
    "        ],\n",
    "        \"level\": 2,\n",
    "        \"bio\": \"중급 수준의 취업 및 이직, 스피치 발표, 생산성 툴 전문가입니다. 직장 생활의 노하우를 전수해드리겠습니다.\"\n",
    "    },\n",
    "    {\n",
    "        \"name\":\"템템포\",\n",
    "        \"bio\": \"\"\"안녕하세요:D\n",
    "            현 재 고양시 산하 도시홍보마케팅 전담기구인 (사)고양컨벤션뷰로 마케팅팀에서 근무하고 있습니다. 대학교 입학 시, 전공을 선택할 때부터 MICE 인이 되어야겠다고 큰 꿈을 품었던 본투비(?) MICE 러버입니다. \n",
    "            MICE가 좋아 대학생부터 지금까지 외길만 걸어온지 어느덧 7년차네요. MICE 산업에서 근무하기 위해 어떠한 준비를 해왔고, \n",
    "            또 컨벤션뷰로라는 기관에서 어떤 사업들을 하고 있는지 세세하게 알려드리겠습니다. 일반적인 홍보마케팅과 달리 도시 홍보마케팅은 대체 어떻게 하는 것인지 궁금하다면? 도움을 드리겠습니다.\n",
    "            또한, 한 분야에서 사업을 진행하며 특히 흥미 있는 사업의 전문성을 갖기 위해 현재 교육대학원에 입학하여 평생교육 및 코칭 전공을 하고 있습니다. \n",
    "            대학원 입학과 관련해서도 도움드릴 수 있을 것 같아요!저도 잇다를 통해 많은 도움을 받아, 제 경험이 조금이나마 도움이 된다면 열심히 나누고 싶습니다. 감사합니다.\"\"\"\n",
    "    }]"
   ]
  },
  {
   "cell_type": "code",
   "execution_count": 5,
   "metadata": {},
   "outputs": [],
   "source": [
    "mentors2 = [{\n",
    "    \"name\" : \"템템포2\",\n",
    "    \"bio\"  : \"저는 부트캠프를 수료한 인공지능 전문가 김영효입니다\"\n",
    "}]"
   ]
  },
  {
   "cell_type": "code",
   "execution_count": 7,
   "metadata": {},
   "outputs": [
    {
     "data": {
      "text/plain": [
       "[{'name': '템템포2', 'bio': '부트캠프 수료 인공 지능 전문가 김영 효'}]"
      ]
     },
     "execution_count": 7,
     "metadata": {},
     "output_type": "execute_result"
    }
   ],
   "source": [
    "mentors2"
   ]
  },
  {
   "cell_type": "code",
   "execution_count": 8,
   "metadata": {},
   "outputs": [
    {
     "data": {
      "text/plain": [
       "{'name': '템템포',\n",
       " 'bio': '고양시 도시 홍보 마케팅 전담 기구 사고 컨벤션 뷰 마케팅 팀 근무 대학교 입학 전공 선택 인 꿈 러버 대학생 지금 외길 산업 근무 준비 컨벤션 뷰 로라 기관 사업 일반 홍보 마케팅 달리 도시 홍보 마케팅 대체 분야 사업 진행 흥미 사업 전문성 교육대학 입학 평생교육 코칭 전공 대학원 입학 관련 드릴 도'}"
      ]
     },
     "execution_count": 8,
     "metadata": {},
     "output_type": "execute_result"
    }
   ],
   "source": [
    "mentor"
   ]
  },
  {
   "cell_type": "code",
   "execution_count": 48,
   "metadata": {},
   "outputs": [],
   "source": [
    "import torch.nn as nn\n",
    "\n",
    "class KoELECTRAClassifier(nn.Module):\n",
    "    def __init__(self, electra):\n",
    "        \"\"\"\n",
    "        KoELECTRAClassifier 클래스 초기화\n",
    "        :param electra: 사전 학습된 ELECTRA 모델 (KoELECTRA)\n",
    "        \"\"\"\n",
    "        super(KoELECTRAClassifier, self).__init__()\n",
    "        self.electra = electra  # ELECTRA 모델을 할당\n",
    "        self.dropout = nn.Dropout(0.3)  # 과적합 방지를 위한 드롭아웃 레이어 (30% 드롭아웃)\n",
    "        self.classifier = nn.Linear(electra.config.hidden_size, 1)  # ELECTRA 출력(hidden_size)을 1차원으로 변환하는 선형 레이어\n",
    "    \n",
    "    def forward(self, input_ids, attention_mask):\n",
    "        \"\"\"\n",
    "        순전파 계산\n",
    "        :param input_ids: 입력 토큰 ID들\n",
    "        :param attention_mask: 패딩된 부분을 무시하기 위한 어텐션 마스크\n",
    "        :return: 최종 출력 로짓 (분류 점수)\n",
    "        \"\"\"\n",
    "        # ELECTRA 모델의 순전파 진행 (입력값을 처리하여 마지막 히든 스테이트 반환)\n",
    "        outputs = self.electra(\n",
    "            input_ids=input_ids,\n",
    "            attention_mask=attention_mask\n",
    "        )\n",
    "        \n",
    "        # [CLS] 토큰에 해당하는 첫 번째 토큰의 히든 스테이트를 사용\n",
    "        pooled_output = outputs.last_hidden_state[:, 0]\n",
    "        \n",
    "        # 드롭아웃을 적용하여 과적합 방지\n",
    "        dropout_output = self.dropout(pooled_output)\n",
    "        \n",
    "        # 선형 레이어를 통해 최종 분류 값 계산 (로짓 출력)\n",
    "        logits = self.classifier(dropout_output)\n",
    "        \n",
    "        return logits\n"
   ]
  },
  {
   "cell_type": "code",
   "execution_count": 49,
   "metadata": {},
   "outputs": [
    {
     "name": "stderr",
     "output_type": "stream",
     "text": [
      "Some weights of ElectraForSequenceClassification were not initialized from the model checkpoint at monologg/koelectra-base-v3-discriminator and are newly initialized: ['classifier.dense.bias', 'classifier.dense.weight', 'classifier.out_proj.bias', 'classifier.out_proj.weight']\n",
      "You should probably TRAIN this model on a down-stream task to be able to use it for predictions and inference.\n"
     ]
    }
   ],
   "source": [
    "from transformers import ElectraTokenizer, ElectraForSequenceClassification\n",
    "\n",
    "# KoELECTRA 모델 및 토크나이저 로드\n",
    "tokenizer = ElectraTokenizer.from_pretrained(\"monologg/koelectra-base-v3-discriminator\")\n",
    "model = ElectraForSequenceClassification.from_pretrained(\"monologg/koelectra-base-v3-discriminator\")\n"
   ]
  },
  {
   "cell_type": "code",
   "execution_count": 52,
   "metadata": {},
   "outputs": [
    {
     "data": {
      "text/plain": [
       "SequenceClassifierOutput(loss=None, logits=tensor([[0.0979, 0.0424]], grad_fn=<AddmmBackward0>), hidden_states=None, attentions=None)"
      ]
     },
     "execution_count": 52,
     "metadata": {},
     "output_type": "execute_result"
    }
   ],
   "source": [
    "outputs"
   ]
  },
  {
   "cell_type": "code",
   "execution_count": 9,
   "metadata": {},
   "outputs": [
    {
     "name": "stdout",
     "output_type": "stream",
     "text": [
      "Requirement already satisfied: networkx in c:\\users\\smhrd1\\desktop\\mentors\\ai\\mentors_env\\lib\\site-packages (3.2.1)\n",
      "Note: you may need to restart the kernel to use updated packages.\n"
     ]
    },
    {
     "name": "stderr",
     "output_type": "stream",
     "text": [
      "\n",
      "[notice] A new release of pip is available: 24.2 -> 24.3.1\n",
      "[notice] To update, run: python.exe -m pip install --upgrade pip\n"
     ]
    }
   ],
   "source": [
    "pip install networkx"
   ]
  },
  {
   "cell_type": "code",
   "execution_count": 56,
   "metadata": {},
   "outputs": [
    {
     "name": "stdout",
     "output_type": "stream",
     "text": [
      "요약된 텍스트:\n",
      "0.2154 - - 네트워크 지능화 기술 연구개발.\n",
      "0.2117 - - 데이터 기반 의미 분석 및 AI 모델링 기술 연구개발\n",
      "0.2000 - Swift, Objective-C, Xcode, UI 설계\n",
      "0.1869 - - 네트워크공학 박사\n",
      "0.1860 - - 데이터 사이언티스트\n"
     ]
    }
   ],
   "source": [
    "# 형태소 분석기를 사용해 한국어 및 영어 명사 추출\n",
    "from konlpy.tag import Okt\n",
    "import numpy as np\n",
    "import networkx as nx\n",
    "from sklearn.metrics.pairwise import cosine_similarity\n",
    "from sklearn.feature_extraction.text import TfidfVectorizer\n",
    "import re\n",
    "\n",
    "# 문장 단위로 텍스트 분할\n",
    "text = \"\"\"- 데이터 사이언티스트\n",
    "- 네트워크공학 박사\n",
    "- 데이터 기반 의미 분석 및 AI 모델링 기술 연구개발\n",
    "- 네트워크 지능화 기술 연구개발.\n",
    "Swift, Objective-C, Xcode, UI 설계\"\"\"\n",
    "sentences = text.split(\"\\n\")\n",
    "\n",
    "# 한국어 명사와 영어 단어 추출 함수\n",
    "def extract_korean_english_nouns(sentence):\n",
    "    okt = Okt()\n",
    "    korean_nouns = okt.nouns(sentence)\n",
    "    english_nouns = re.findall(r'\\b[a-zA-Z]+\\b', sentence)\n",
    "    return korean_nouns + english_nouns\n",
    "\n",
    "# 텍스트 전처리\n",
    "tokenized_sentences = [\" \".join(extract_korean_english_nouns(sentence)) for sentence in sentences]\n",
    "\n",
    "# TF-IDF 행렬 생성\n",
    "tfidf = TfidfVectorizer()\n",
    "tfidf_matrix = tfidf.fit_transform(tokenized_sentences)\n",
    "\n",
    "# 문장 간 유사도 행렬 생성\n",
    "similarity_matrix = cosine_similarity(tfidf_matrix, tfidf_matrix)\n",
    "\n",
    "# 유사도 행렬을 그래프로 변환\n",
    "graph = nx.from_numpy_array(similarity_matrix)\n",
    "\n",
    "# TextRank 계산\n",
    "scores = nx.pagerank(graph)\n",
    "\n",
    "# 중요도 높은 순으로 문장 정렬\n",
    "ranked_sentences = sorted(((scores[i], s) for i, s in enumerate(sentences)), reverse=True)\n",
    "\n",
    "# 상위 문장 출력\n",
    "print(\"요약된 텍스트:\")\n",
    "for score, sentence in ranked_sentences:\n",
    "    print(f\"{score:.4f} - {sentence}\")\n"
   ]
  },
  {
   "cell_type": "code",
   "execution_count": 57,
   "metadata": {},
   "outputs": [
    {
     "data": {
      "text/plain": [
       "[(0.21538406273177801, '- 네트워크 지능화 기술 연구개발.'),\n",
       " (0.21173265162553473, '- 데이터 기반 의미 분석 및 AI 모델링 기술 연구개발'),\n",
       " (0.2, 'Swift, Objective-C, Xcode, UI 설계'),\n",
       " (0.1869057732830728, '- 네트워크공학 박사'),\n",
       " (0.18597751235961427, '- 데이터 사이언티스트')]"
      ]
     },
     "execution_count": 57,
     "metadata": {},
     "output_type": "execute_result"
    }
   ],
   "source": [
    "ranked_sentences"
   ]
  },
  {
   "cell_type": "code",
   "execution_count": 58,
   "metadata": {},
   "outputs": [
    {
     "name": "stdout",
     "output_type": "stream",
     "text": [
      "- 네트워크 지능화 기술 연구개발.\n",
      "- 데이터 기반 의미 분석 및 AI 모델링 기술 연구개발\n",
      "Swift, Objective-C, Xcode, UI 설계\n",
      "- 네트워크공학 박사\n",
      "- 데이터 사이언티스트\n"
     ]
    }
   ],
   "source": [
    "for a,b in ranked_sentences:\n",
    "    print(b)"
   ]
  },
  {
   "cell_type": "code",
   "execution_count": 47,
   "metadata": {},
   "outputs": [
    {
     "data": {
      "text/plain": [
       "[(1.0, '데이터 티스 트 네트워크 공학 박사 데이터 기반 의미 분석 모델링 기술 연구개발 네트워크 지능 기술 연구개발 설계')]"
      ]
     },
     "execution_count": 47,
     "metadata": {},
     "output_type": "execute_result"
    }
   ],
   "source": [
    "ranked_sentences"
   ]
  },
  {
   "cell_type": "code",
   "execution_count": 30,
   "metadata": {},
   "outputs": [
    {
     "name": "stdout",
     "output_type": "stream",
     "text": [
      "단어 목록: ['티스', '지능', '의미', '연구개발', '연구개발', '분석', '박사', '모델링', '데이터', '데이터', '네트워크', '네트워크', '기술', '기술', '기반', '공학', '트']\n"
     ]
    }
   ],
   "source": [
    "# 단어 리스트로 추출하여 출력\n",
    "words_only = [word for score, word in ranked_sentences]\n",
    "print(\"단어 목록:\", words_only)\n"
   ]
  },
  {
   "cell_type": "code",
   "execution_count": 31,
   "metadata": {},
   "outputs": [
    {
     "data": {
      "text/plain": [
       "['티스',\n",
       " '지능',\n",
       " '의미',\n",
       " '연구개발',\n",
       " '연구개발',\n",
       " '분석',\n",
       " '박사',\n",
       " '모델링',\n",
       " '데이터',\n",
       " '데이터',\n",
       " '네트워크',\n",
       " '네트워크',\n",
       " '기술',\n",
       " '기술',\n",
       " '기반',\n",
       " '공학',\n",
       " '트']"
      ]
     },
     "execution_count": 31,
     "metadata": {},
     "output_type": "execute_result"
    }
   ],
   "source": [
    "words_only"
   ]
  },
  {
   "cell_type": "code",
   "execution_count": null,
   "metadata": {},
   "outputs": [],
   "source": []
  }
 ],
 "metadata": {
  "kernelspec": {
   "display_name": "mentors_env",
   "language": "python",
   "name": "python3"
  },
  "language_info": {
   "codemirror_mode": {
    "name": "ipython",
    "version": 3
   },
   "file_extension": ".py",
   "mimetype": "text/x-python",
   "name": "python",
   "nbconvert_exporter": "python",
   "pygments_lexer": "ipython3",
   "version": "3.12.4"
  }
 },
 "nbformat": 4,
 "nbformat_minor": 2
}
