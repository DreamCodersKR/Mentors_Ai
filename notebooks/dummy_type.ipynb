{
 "cells": [
  {
   "cell_type": "code",
   "execution_count": null,
   "metadata": {},
   "outputs": [
    {
     "ename": "SyntaxError",
     "evalue": "incomplete input (4279881702.py, line 22)",
     "output_type": "error",
     "traceback": [
      "\u001b[1;36m  Cell \u001b[1;32mIn[1], line 22\u001b[1;36m\u001b[0m\n\u001b[1;33m    }\u001b[0m\n\u001b[1;37m     ^\u001b[0m\n\u001b[1;31mSyntaxError\u001b[0m\u001b[1;31m:\u001b[0m incomplete input\n"
     ]
    }
   ],
   "source": [
    "\n",
    "    {\n",
    "        \"Category\": \"IT/기술\",\n",
    "        \"Subcategory\" : \"데이터 분석 및 머신러닝\",\n",
    "        \"mentor\": {\n",
    "            \"name\": \"오준서\",\n",
    "            \"career\": \"삼성몇년, 하이닉스몇년\",\n",
    "            \"mentoring_area\": \"빅데이터 전문\",\n",
    "            \"skill_stack\" : \"SQL마스터, 빅데이터분산처리\",\n",
    "            \"mentoring style\" : \"차분한 분위기 선호, 열정적인 멘티 선호\",\n",
    "            \"level\" : 5,\n",
    "        },\n",
    "        \"mentee\": {\n",
    "            \"name\": \"정수빈\",\n",
    "            \"interests\": [\n",
    "                \"실무 능력 개발\",\n",
    "                \"스피치 기술\"\n",
    "            ],\n",
    "            \"level\": 2,\n",
    "            \"bio\": \"안녕하세요, 중급 단계의 실무 능력 개발, 스피치 기술를 향상시키고 싶습니다.\"\n",
    "        },\n",
    "        \"match\": 0\n",
    "    }"
   ]
  },
  {
   "cell_type": "code",
   "execution_count": null,
   "metadata": {},
   "outputs": [],
   "source": []
  }
 ],
 "metadata": {
  "kernelspec": {
   "display_name": "mentors_env",
   "language": "python",
   "name": "python3"
  },
  "language_info": {
   "codemirror_mode": {
    "name": "ipython",
    "version": 3
   },
   "file_extension": ".py",
   "mimetype": "text/x-python",
   "name": "python",
   "nbconvert_exporter": "python",
   "pygments_lexer": "ipython3",
   "version": "3.12.4"
  }
 },
 "nbformat": 4,
 "nbformat_minor": 2
}
