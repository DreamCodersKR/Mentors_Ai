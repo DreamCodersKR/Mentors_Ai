{
 "cells": [
  {
   "cell_type": "code",
   "execution_count": 1,
   "metadata": {},
   "outputs": [],
   "source": [
    "import pandas as pd\n",
    "import matplotlib.pyplot as plt\n",
    "from sklearn.datasets import load_breast_cancer"
   ]
  },
  {
   "cell_type": "code",
   "execution_count": 2,
   "metadata": {},
   "outputs": [],
   "source": [
    "# 데이터 불러오기 (sklearn에서 제공되는 데이터셋 : 번치 객체 (딕셔너리처럼 활용)\n",
    "breast_data = load_breast_cancer()"
   ]
  },
  {
   "cell_type": "code",
   "execution_count": 3,
   "metadata": {},
   "outputs": [
    {
     "data": {
      "text/plain": [
       "dict_keys(['data', 'target', 'frame', 'target_names', 'DESCR', 'feature_names', 'filename', 'data_module'])"
      ]
     },
     "execution_count": 3,
     "metadata": {},
     "output_type": "execute_result"
    }
   ],
   "source": [
    "breast_data.keys()"
   ]
  },
  {
   "cell_type": "code",
   "execution_count": 4,
   "metadata": {},
   "outputs": [],
   "source": [
    "# X, y 분리\n",
    "X = breast_data[\"data\"]\n",
    "y = breast_data[\"target\"]"
   ]
  },
  {
   "cell_type": "code",
   "execution_count": 8,
   "metadata": {},
   "outputs": [
    {
     "data": {
      "text/plain": [
       "((569, 30), (569,))"
      ]
     },
     "execution_count": 8,
     "metadata": {},
     "output_type": "execute_result"
    }
   ],
   "source": [
    "X.shape, y.shape"
   ]
  },
  {
   "cell_type": "code",
   "execution_count": 10,
   "metadata": {},
   "outputs": [
    {
     "data": {
      "text/plain": [
       "1    357\n",
       "0    212\n",
       "Name: count, dtype: int64"
      ]
     },
     "execution_count": 10,
     "metadata": {},
     "output_type": "execute_result"
    }
   ],
   "source": [
    "pd.Series(y).value_counts()\n",
    "# 1 : 양성\n",
    "# 2 : 음성"
   ]
  },
  {
   "cell_type": "code",
   "execution_count": 11,
   "metadata": {},
   "outputs": [],
   "source": [
    "# train, test 분리\n",
    "from sklearn.model_selection import train_test_split\n",
    "X_train, X_test, y_train, y_test = train_test_split(X, y, test_size=0.3, random_state=2024, stratify=y)\n",
    "# stratify = y -> 클래스 비율을 동일하게 유지하여 분할\n",
    "# 데이터 편향성"
   ]
  },
  {
   "cell_type": "code",
   "execution_count": 12,
   "metadata": {},
   "outputs": [
    {
     "data": {
      "text/plain": [
       "((398, 30), (171, 30), (398,), (171,))"
      ]
     },
     "execution_count": 12,
     "metadata": {},
     "output_type": "execute_result"
    }
   ],
   "source": [
    "X_train.shape, X_test.shape, y_train.shape, y_test.shape"
   ]
  },
  {
   "cell_type": "code",
   "execution_count": 13,
   "metadata": {},
   "outputs": [
    {
     "data": {
      "text/plain": [
       "1    250\n",
       "0    148\n",
       "Name: count, dtype: int64"
      ]
     },
     "metadata": {},
     "output_type": "display_data"
    },
    {
     "data": {
      "text/plain": [
       "1    107\n",
       "0     64\n",
       "Name: count, dtype: int64"
      ]
     },
     "metadata": {},
     "output_type": "display_data"
    }
   ],
   "source": [
    "display(pd.Series(y_train).value_counts())\n",
    "display(pd.Series(y_test).value_counts())"
   ]
  },
  {
   "cell_type": "code",
   "execution_count": 14,
   "metadata": {},
   "outputs": [],
   "source": [
    "from tensorflow.keras.models import Sequential\n",
    "from tensorflow.keras.layers import InputLayer, Dense"
   ]
  },
  {
   "cell_type": "markdown",
   "metadata": {},
   "source": [
    "### MLP (Multi Layer Perceptron, 다층 퍼셉트론)\n",
    "```\n",
    "- 단층 퍼셉트론 (입력과 출력으로만 이루어진 신경망)에서\n",
    "차원 수를 확장(은닉층의 역할) 시켜,\n",
    "비선형성이 가능케 한 여러개의 층으로 구성하여 만든 신경망\n",
    "```"
   ]
  },
  {
   "cell_type": "code",
   "execution_count": 16,
   "metadata": {},
   "outputs": [],
   "source": [
    "# 1. 신경망 구조 설계\n",
    "# 뼈대 \n",
    "model = Sequential()\n",
    "\n",
    "# 입력층\n",
    "model.add(InputLayer(shape=(30,)))\n",
    "\n",
    "# 중간층(은닉층)\n",
    "model.add(Dense(units=32, activation=\"sigmoid\")) # 퍼셉트론(선형모델 + 활성화함수)\n",
    "model.add(Dense(units=64, activation=\"sigmoid\"))\n",
    "model.add(Dense(units=128, activation=\"sigmoid\"))\n",
    "model.add(Dense(units=256, activation=\"sigmoid\"))\n",
    "model.add(Dense(units=128, activation=\"sigmoid\"))\n",
    "model.add(Dense(units=64, activation=\"sigmoid\")) \n",
    "model.add(Dense(units=32, activation=\"sigmoid\")) \n",
    "# 중간층에서의 활성함수의 역할 : 역치의 기준을 통해 다음 층으로 정보를 넘기는 활성화에 대한 여부\n",
    "\n",
    "# 출력층\n",
    "model.add(Dense(units=1, activation=\"sigmoid\")) \n",
    "# 출력층에서의 activation 역할 : 어떠한 값을 출력할 것인지에 대한 함수 정의\n",
    "# linear (회귀) : 기본값, 항등함수 (y = x), 선형 모델이 예측한 값을 그대로 출력\n",
    "# sigmoid (이진분류) : 선형 모델이 예측한 값을 0 ~ 1 사이의 '확률값'으로 변경해서 출력\n",
    "# softmax (다중분류, 클래스 개수만큼 유닛의 수 설정) : 클래스의 개수만큼 확률값을 반환하는데 '총합'이 1이 되도록 출력\n"
   ]
  },
  {
   "cell_type": "code",
   "execution_count": 17,
   "metadata": {},
   "outputs": [],
   "source": [
    "# 2. 학습 방법 설정 - 출력 형태에 따라 다르게 설정\n",
    "model.compile(loss=\"binary_crossentropy\", # 오차 구해주는 도구\n",
    "              optimizer = \"adam\", # 최적화 함수 (SGD는 local minima에 빠질 확률이 크다)\n",
    "              metrics=[\"accuracy\"]\n",
    "              )\n",
    "# loss 설정\n",
    "# 회귀 : MSE (평균 제곱 오차), y값이 실수값인 경우 사용되는 손실함수(도구)\n",
    "# 이진분류 : binary_crossentropy (교차 엔트로피), y값이 이진인 경우 사용되는 손실함수\n",
    "# 다중분류 : categorical_crossentropy(범주형 교차 엔트로피), y값이 다중인데, y가 2D인경우 사용되는 손실함수\n",
    "# 다중분류 : sparse_categorical_crossentropy, y값이 다중인데, y가 1D인경우 사용되는 손실함수"
   ]
  },
  {
   "cell_type": "code",
   "execution_count": 18,
   "metadata": {},
   "outputs": [
    {
     "name": "stdout",
     "output_type": "stream",
     "text": [
      "Epoch 1/30\n",
      "\u001b[1m9/9\u001b[0m \u001b[32m━━━━━━━━━━━━━━━━━━━━\u001b[0m\u001b[37m\u001b[0m \u001b[1m3s\u001b[0m 42ms/step - accuracy: 0.6176 - loss: 0.6735 - val_accuracy: 0.6583 - val_loss: 0.6549\n",
      "Epoch 2/30\n",
      "\u001b[1m9/9\u001b[0m \u001b[32m━━━━━━━━━━━━━━━━━━━━\u001b[0m\u001b[37m\u001b[0m \u001b[1m0s\u001b[0m 14ms/step - accuracy: 0.6246 - loss: 0.6655 - val_accuracy: 0.6583 - val_loss: 0.6460\n",
      "Epoch 3/30\n",
      "\u001b[1m9/9\u001b[0m \u001b[32m━━━━━━━━━━━━━━━━━━━━\u001b[0m\u001b[37m\u001b[0m \u001b[1m0s\u001b[0m 15ms/step - accuracy: 0.6070 - loss: 0.6704 - val_accuracy: 0.6583 - val_loss: 0.6468\n",
      "Epoch 4/30\n",
      "\u001b[1m9/9\u001b[0m \u001b[32m━━━━━━━━━━━━━━━━━━━━\u001b[0m\u001b[37m\u001b[0m \u001b[1m0s\u001b[0m 13ms/step - accuracy: 0.6172 - loss: 0.6665 - val_accuracy: 0.6583 - val_loss: 0.6465\n",
      "Epoch 5/30\n",
      "\u001b[1m9/9\u001b[0m \u001b[32m━━━━━━━━━━━━━━━━━━━━\u001b[0m\u001b[37m\u001b[0m \u001b[1m0s\u001b[0m 14ms/step - accuracy: 0.6286 - loss: 0.6608 - val_accuracy: 0.6583 - val_loss: 0.6439\n",
      "Epoch 6/30\n",
      "\u001b[1m9/9\u001b[0m \u001b[32m━━━━━━━━━━━━━━━━━━━━\u001b[0m\u001b[37m\u001b[0m \u001b[1m0s\u001b[0m 13ms/step - accuracy: 0.6162 - loss: 0.6658 - val_accuracy: 0.6583 - val_loss: 0.6475\n",
      "Epoch 7/30\n",
      "\u001b[1m9/9\u001b[0m \u001b[32m━━━━━━━━━━━━━━━━━━━━\u001b[0m\u001b[37m\u001b[0m \u001b[1m0s\u001b[0m 13ms/step - accuracy: 0.5849 - loss: 0.6799 - val_accuracy: 0.6583 - val_loss: 0.6469\n",
      "Epoch 8/30\n",
      "\u001b[1m9/9\u001b[0m \u001b[32m━━━━━━━━━━━━━━━━━━━━\u001b[0m\u001b[37m\u001b[0m \u001b[1m0s\u001b[0m 14ms/step - accuracy: 0.6174 - loss: 0.6660 - val_accuracy: 0.6583 - val_loss: 0.6431\n",
      "Epoch 9/30\n",
      "\u001b[1m9/9\u001b[0m \u001b[32m━━━━━━━━━━━━━━━━━━━━\u001b[0m\u001b[37m\u001b[0m \u001b[1m0s\u001b[0m 14ms/step - accuracy: 0.6261 - loss: 0.6610 - val_accuracy: 0.6583 - val_loss: 0.6431\n",
      "Epoch 10/30\n",
      "\u001b[1m9/9\u001b[0m \u001b[32m━━━━━━━━━━━━━━━━━━━━\u001b[0m\u001b[37m\u001b[0m \u001b[1m0s\u001b[0m 16ms/step - accuracy: 0.6558 - loss: 0.6444 - val_accuracy: 0.6583 - val_loss: 0.6455\n",
      "Epoch 11/30\n",
      "\u001b[1m9/9\u001b[0m \u001b[32m━━━━━━━━━━━━━━━━━━━━\u001b[0m\u001b[37m\u001b[0m \u001b[1m0s\u001b[0m 14ms/step - accuracy: 0.6123 - loss: 0.6664 - val_accuracy: 0.6583 - val_loss: 0.6453\n",
      "Epoch 12/30\n",
      "\u001b[1m9/9\u001b[0m \u001b[32m━━━━━━━━━━━━━━━━━━━━\u001b[0m\u001b[37m\u001b[0m \u001b[1m0s\u001b[0m 13ms/step - accuracy: 0.5961 - loss: 0.6695 - val_accuracy: 0.6583 - val_loss: 0.6374\n",
      "Epoch 13/30\n",
      "\u001b[1m9/9\u001b[0m \u001b[32m━━━━━━━━━━━━━━━━━━━━\u001b[0m\u001b[37m\u001b[0m \u001b[1m0s\u001b[0m 13ms/step - accuracy: 0.6324 - loss: 0.6494 - val_accuracy: 0.6583 - val_loss: 0.6234\n",
      "Epoch 14/30\n",
      "\u001b[1m9/9\u001b[0m \u001b[32m━━━━━━━━━━━━━━━━━━━━\u001b[0m\u001b[37m\u001b[0m \u001b[1m0s\u001b[0m 13ms/step - accuracy: 0.6318 - loss: 0.6295 - val_accuracy: 0.6583 - val_loss: 0.5783\n",
      "Epoch 15/30\n",
      "\u001b[1m9/9\u001b[0m \u001b[32m━━━━━━━━━━━━━━━━━━━━\u001b[0m\u001b[37m\u001b[0m \u001b[1m0s\u001b[0m 13ms/step - accuracy: 0.5834 - loss: 0.5982 - val_accuracy: 0.9000 - val_loss: 0.4793\n",
      "Epoch 16/30\n",
      "\u001b[1m9/9\u001b[0m \u001b[32m━━━━━━━━━━━━━━━━━━━━\u001b[0m\u001b[37m\u001b[0m \u001b[1m0s\u001b[0m 14ms/step - accuracy: 0.8520 - loss: 0.4879 - val_accuracy: 0.9167 - val_loss: 0.3677\n",
      "Epoch 17/30\n",
      "\u001b[1m9/9\u001b[0m \u001b[32m━━━━━━━━━━━━━━━━━━━━\u001b[0m\u001b[37m\u001b[0m \u001b[1m0s\u001b[0m 13ms/step - accuracy: 0.8714 - loss: 0.4017 - val_accuracy: 0.8167 - val_loss: 0.4157\n",
      "Epoch 18/30\n",
      "\u001b[1m9/9\u001b[0m \u001b[32m━━━━━━━━━━━━━━━━━━━━\u001b[0m\u001b[37m\u001b[0m \u001b[1m0s\u001b[0m 14ms/step - accuracy: 0.8558 - loss: 0.3987 - val_accuracy: 0.9083 - val_loss: 0.3063\n",
      "Epoch 19/30\n",
      "\u001b[1m9/9\u001b[0m \u001b[32m━━━━━━━━━━━━━━━━━━━━\u001b[0m\u001b[37m\u001b[0m \u001b[1m0s\u001b[0m 14ms/step - accuracy: 0.9232 - loss: 0.2675 - val_accuracy: 0.7333 - val_loss: 0.3845\n",
      "Epoch 20/30\n",
      "\u001b[1m9/9\u001b[0m \u001b[32m━━━━━━━━━━━━━━━━━━━━\u001b[0m\u001b[37m\u001b[0m \u001b[1m0s\u001b[0m 14ms/step - accuracy: 0.8664 - loss: 0.3389 - val_accuracy: 0.8333 - val_loss: 0.3392\n",
      "Epoch 21/30\n",
      "\u001b[1m9/9\u001b[0m \u001b[32m━━━━━━━━━━━━━━━━━━━━\u001b[0m\u001b[37m\u001b[0m \u001b[1m0s\u001b[0m 14ms/step - accuracy: 0.8924 - loss: 0.3170 - val_accuracy: 0.9083 - val_loss: 0.3043\n",
      "Epoch 22/30\n",
      "\u001b[1m9/9\u001b[0m \u001b[32m━━━━━━━━━━━━━━━━━━━━\u001b[0m\u001b[37m\u001b[0m \u001b[1m0s\u001b[0m 15ms/step - accuracy: 0.8932 - loss: 0.3062 - val_accuracy: 0.8500 - val_loss: 0.3499\n",
      "Epoch 23/30\n",
      "\u001b[1m9/9\u001b[0m \u001b[32m━━━━━━━━━━━━━━━━━━━━\u001b[0m\u001b[37m\u001b[0m \u001b[1m0s\u001b[0m 15ms/step - accuracy: 0.8243 - loss: 0.3694 - val_accuracy: 0.9000 - val_loss: 0.2849\n",
      "Epoch 24/30\n",
      "\u001b[1m9/9\u001b[0m \u001b[32m━━━━━━━━━━━━━━━━━━━━\u001b[0m\u001b[37m\u001b[0m \u001b[1m0s\u001b[0m 15ms/step - accuracy: 0.8423 - loss: 0.3548 - val_accuracy: 0.9083 - val_loss: 0.2906\n",
      "Epoch 25/30\n",
      "\u001b[1m9/9\u001b[0m \u001b[32m━━━━━━━━━━━━━━━━━━━━\u001b[0m\u001b[37m\u001b[0m \u001b[1m0s\u001b[0m 14ms/step - accuracy: 0.8646 - loss: 0.3569 - val_accuracy: 0.9083 - val_loss: 0.2843\n",
      "Epoch 26/30\n",
      "\u001b[1m9/9\u001b[0m \u001b[32m━━━━━━━━━━━━━━━━━━━━\u001b[0m\u001b[37m\u001b[0m \u001b[1m0s\u001b[0m 14ms/step - accuracy: 0.9021 - loss: 0.3026 - val_accuracy: 0.9000 - val_loss: 0.2882\n",
      "Epoch 27/30\n",
      "\u001b[1m9/9\u001b[0m \u001b[32m━━━━━━━━━━━━━━━━━━━━\u001b[0m\u001b[37m\u001b[0m \u001b[1m0s\u001b[0m 14ms/step - accuracy: 0.8538 - loss: 0.3473 - val_accuracy: 0.8917 - val_loss: 0.3193\n",
      "Epoch 28/30\n",
      "\u001b[1m9/9\u001b[0m \u001b[32m━━━━━━━━━━━━━━━━━━━━\u001b[0m\u001b[37m\u001b[0m \u001b[1m0s\u001b[0m 14ms/step - accuracy: 0.8928 - loss: 0.3146 - val_accuracy: 0.9000 - val_loss: 0.2960\n",
      "Epoch 29/30\n",
      "\u001b[1m9/9\u001b[0m \u001b[32m━━━━━━━━━━━━━━━━━━━━\u001b[0m\u001b[37m\u001b[0m \u001b[1m0s\u001b[0m 14ms/step - accuracy: 0.8708 - loss: 0.3302 - val_accuracy: 0.9167 - val_loss: 0.2796\n",
      "Epoch 30/30\n",
      "\u001b[1m9/9\u001b[0m \u001b[32m━━━━━━━━━━━━━━━━━━━━\u001b[0m\u001b[37m\u001b[0m \u001b[1m0s\u001b[0m 14ms/step - accuracy: 0.8830 - loss: 0.3327 - val_accuracy: 0.9083 - val_loss: 0.2867\n"
     ]
    }
   ],
   "source": [
    "# 3. 학습\n",
    "h = model.fit(\n",
    "    X_train, y_train,\n",
    "    validation_split=0.3,\n",
    "    epochs=30,\n",
    ")"
   ]
  },
  {
   "cell_type": "code",
   "execution_count": 19,
   "metadata": {},
   "outputs": [
    {
     "data": {
      "image/png": "[encoded data removed]",
      "text/plain": [
       "<Figure size 1500x500 with 1 Axes>"
      ]
     },
     "metadata": {},
     "output_type": "display_data"
    }
   ],
   "source": [
    "# 4. 평가\n",
    "plt.figure(figsize=(15, 5))\n",
    "\n",
    "plt.plot(h.history[\"accuracy\"], label=\"train_acc\")\n",
    "plt.plot(h.history[\"val_accuracy\"], label=\"val_acc\")\n",
    "plt.legend()\n",
    "plt.show()\n",
    "\n",
    "# 초기 epoch 때 local minima에 빠져있는 모습이 관측됨\n",
    "# 그러나 adam으로 인해 빠져나와 전역 최소점을 찾아가는 모습도 관측됨"
   ]
  },
  {
   "cell_type": "code",
   "execution_count": null,
   "metadata": {},
   "outputs": [],
   "source": []
  },
  {
   "cell_type": "code",
   "execution_count": null,
   "metadata": {},
   "outputs": [],
   "source": []
  },
  {
   "cell_type": "code",
   "execution_count": null,
   "metadata": {},
   "outputs": [],
   "source": []
  }
 ],
 "metadata": {
  "kernelspec": {
   "display_name": "mentors_env",
   "language": "python",
   "name": "python3"
  },
  "language_info": {
   "codemirror_mode": {
    "name": "ipython",
    "version": 3
   },
   "file_extension": ".py",
   "mimetype": "text/x-python",
   "name": "python",
   "nbconvert_exporter": "python",
   "pygments_lexer": "ipython3",
   "version": "3.12.6"
  }
 },
 "nbformat": 4,
 "nbformat_minor": 2
}
