{
 "cells": [
  {
   "cell_type": "markdown",
   "metadata": {},
   "source": [
    "### Mediapipe 라이브러리를 사용한 얼굴, 동작 추출\n",
    "- 구글에서 지원하는 AI 프레임워크\n",
    "- 기능\n",
    "  - 얼굴 검출\n",
    "  - 얼굴 3D Mesh 검출 (400개가 넘는점)\n",
    "  - 손 동작 인식\n",
    "  - 사람 자세 검출 등"
   ]
  },
  {
   "cell_type": "code",
   "execution_count": 2,
   "metadata": {},
   "outputs": [],
   "source": [
    "import mediapipe as mp\n",
    "import cv2"
   ]
  },
  {
   "cell_type": "markdown",
   "metadata": {},
   "source": [
    "#### Face Mesh 검출"
   ]
  },
  {
   "cell_type": "code",
   "execution_count": 14,
   "metadata": {},
   "outputs": [],
   "source": [
    "# 얼굴 메시, 그리기 라이브러리 가져오기\n",
    "mp_drawing = mp.solutions.drawing_utils\n",
    "mp_face_mesh = mp.solutions.face_mesh\n",
    "\n",
    "# 그리기 설정 (선 두께, 원의 반지름)\n",
    "drawing_spec = mp_drawing.DrawingSpec(thickness=1, circle_radius = 1)\n",
    "\n",
    "cap = cv2.VideoCapture('images/video_for_sticker.mp4')\n",
    "\n",
    "# 최소 검출 신뢰도, 최소 추적 신뢰도\n",
    "with mp_face_mesh.FaceMesh(min_detection_confidence=0.5, # 얼굴일 확률이 50퍼가 넘어가면 트래킹으로 넘어감\n",
    "                           min_tracking_confidence=0.5) as face_mesh:\n",
    "    while cap.isOpened():\n",
    "        ret, frame = cap.read() # 동영상의 한 프레임 읽기\n",
    "\n",
    "        if not ret:\n",
    "            print(\"이미지 읽기 실패 혹은 전체 영상 플레이 완료\")\n",
    "            break\n",
    "        image = cv2.cvtColor(frame, cv2.COLOR_BGR2RGB) # 미디어파이프 처리를 위해 RGB로\n",
    "        # 얼굴 메시 검출\n",
    "        result = face_mesh.process(image)\n",
    "\n",
    "        frame = cv2.cvtColor(image, cv2.COLOR_RGB2BGR) # CV로 올바르게 show하기 위해 다시 BGR로\n",
    "\n",
    "        # 검출된 랜드마크와 랜드마크를 연결하는 선 그리기\n",
    "        if result.multi_face_landmarks:\n",
    "            for face_landmarks in result.multi_face_landmarks:\n",
    "                mp_drawing.draw_landmarks(\n",
    "                    image = frame,\n",
    "                    landmark_list = face_landmarks,\n",
    "                    connections = mp_face_mesh.FACEMESH_CONTOURS,\n",
    "                    landmark_drawing_spec = drawing_spec,\n",
    "                    connection_drawing_spec = drawing_spec\n",
    "                )\n",
    "\n",
    "        cv2.imshow(\"video\", frame)\n",
    "\n",
    "        key = cv2.waitKey(33) # 키보드 입력값 변수에 담기\n",
    "\n",
    "        if key == 49:  # 숫자 1\n",
    "            break\n",
    "\n",
    "cap.release()\n",
    "cv2.destroyAllWindows()"
   ]
  },
  {
   "cell_type": "markdown",
   "metadata": {},
   "source": [
    "#### 얼굴, 손, 포즈 검출"
   ]
  },
  {
   "cell_type": "code",
   "execution_count": null,
   "metadata": {},
   "outputs": [],
   "source": [
    "mp_holistic = mp.solutions.holistic\n",
    "mp_drawing = mp.solutions.drawing_utils\n",
    "\n",
    "drawing_spec1 = mp_drawing.DrawingSpec(thickness=1, color=(0, 0, 255))\n",
    "drawing_spec2 = mp_drawing.DrawingSpec(thickness=3, color=(255, 0, 0))\n",
    "\n",
    "cap = cv2.VideoCapture('images/all_body_video.mp4')\n",
    "\n",
    "with mp_holistic.Holistic(min_detection_confidence = 0.5,\n",
    "                          min_tracking_confidence = 0.5,\n",
    "                          ) as holistic:\n",
    "    while cap.isOpened():\n",
    "        ret, frame = cap.read() # 동영상의 한 프레임 읽기\n",
    "\n",
    "        if not ret:\n",
    "            print(\"이미지 읽기 실패 혹은 전체 영상 플레이 완료\")\n",
    "            break\n",
    "\n",
    "        image = cv2.cvtColor(frame, cv2.COLOR_BGR2RGB)    \n",
    "        result = holistic.process(image) # 얼굴, 포즈 등 검출\n",
    "        frame = cv2.cvtColor(image, cv2.COLOR_RGB2BGR)\n",
    "\n",
    "        mp_drawing.draw_landmarks(frame, result.pose_landmarks,\n",
    "                                  mp_holistic.POSE_CONNECTIONS,\n",
    "                                  landmark_drawing_spec = drawing_spec1,\n",
    "                                  connection_drawing_spec = drawing_spec2,\n",
    "                                  )\n",
    "\n",
    "        cv2.imshow(\"video\", frame)\n",
    "\n",
    "        key = cv2.waitKey(33) # 키보드 입력값 변수에 담기\n",
    "\n",
    "        if key == 49:  # 숫자 1\n",
    "            break\n",
    "\n",
    "cap.release()\n",
    "cv2.destroyAllWindows()"
   ]
  },
  {
   "cell_type": "markdown",
   "metadata": {},
   "source": [
    "#### Pose 활용 자세 판별"
   ]
  },
  {
   "cell_type": "markdown",
   "metadata": {},
   "source": [
    "- 오프셋 거리 계산\n",
    "  - 측면보기 상태에서 두 포인트 (눈, 어깨, 골반) 사이의 거리를 계산\n",
    "  \n",
    "\\begin{align}\n",
    "distance =  \\sqrt{(x2 - x1)^2+(y2 - y1)^2}\n",
    "\\end{align}"
   ]
  },
  {
   "cell_type": "code",
   "execution_count": null,
   "metadata": {},
   "outputs": [],
   "source": [
    "import math as m\n",
    "import time\n",
    "from PIL import ImageFont, ImageDraw, Image\n",
    "import numpy as np\n",
    "\n",
    "# 거리계산 함수\n",
    "def findDistance(x1, y1, x2, y2):\n",
    "    dist = m.sqrt((x2-x1)**2 + (y2-y1)**2)\n",
    "    return dist"
   ]
  },
  {
   "cell_type": "markdown",
   "metadata": {},
   "source": [
    "- 관심 선에서 y축으로 종속된 각도 계산\n",
    "\n",
    "\\begin{align}\n",
    "\\theta = \\arccos (\\frac{\\vec{P_{12}}.\\vec{P_{13}}}{|\\vec{P_{12}}|.|\\vec{P_{13}}|})\n",
    "= \\arccos (\\frac{y_1^2 - y_1.y_2}{y_1\\sqrt{(x_2 - x_1)^2 + (y_2 - y_1)^2}})\n",
    "\\end{align}"
   ]
  },
  {
   "cell_type": "code",
   "execution_count": 20,
   "metadata": {},
   "outputs": [],
   "source": [
    "# 각도 계산 함수\n",
    "def findAngle(x1, y1, x2, y2):\n",
    "    theta = m.acos((y2-y1)*(-y1)/(m.sqrt(x2-x1)**2 + (y2-y1)**2)*y1)\n",
    "    degree = int(180/m.pi)*theta\n",
    "    return degree"
   ]
  },
  {
   "cell_type": "code",
   "execution_count": 21,
   "metadata": {},
   "outputs": [],
   "source": [
    "# 폰트 설정\n",
    "font = cv2.FONT_HERSHEY_SIMPLEX\n",
    "\n",
    "# 색상 설정\n",
    "blue = (255, 127, 0)\n",
    "red = (50, 50, 255)\n",
    "green = (127, 255, 0)\n",
    "dark_blue = (127, 20, 0)\n",
    "light_green = (127, 233, 100)\n",
    "yellow = (0, 255, 255)\n",
    "pink = (255, 0, 255)\n",
    "\n",
    "# 프레임 카운터\n",
    "good_frames = 0\n",
    "bad_frames = 0"
   ]
  },
  {
   "cell_type": "code",
   "execution_count": null,
   "metadata": {},
   "outputs": [],
   "source": [
    "cap = cv2.VideoCapture('images/holistic_ex.mp4')\n",
    "\n",
    "while cap.isOpened():\n",
    "    ret, frame = cap.read() # 동영상의 한 프레임 읽기\n",
    "\n",
    "    if not ret:\n",
    "        print(\"이미지 읽기 실패 혹은 전체 영상 플레이 완료\")\n",
    "        break\n",
    "\n",
    "    cv2.imshow(\"video\", frame)\n",
    "\n",
    "    key = cv2.waitKey(20) # 키보드 입력값 변수에 담기\n",
    "\n",
    "    if key == 49:  # 숫자 1\n",
    "        break\n",
    "\n",
    "cap.release()\n",
    "cv2.destroyAllWindows()"
   ]
  },
  {
   "cell_type": "code",
   "execution_count": null,
   "metadata": {},
   "outputs": [],
   "source": []
  },
  {
   "cell_type": "code",
   "execution_count": null,
   "metadata": {},
   "outputs": [],
   "source": []
  },
  {
   "cell_type": "code",
   "execution_count": null,
   "metadata": {},
   "outputs": [],
   "source": []
  },
  {
   "cell_type": "code",
   "execution_count": null,
   "metadata": {},
   "outputs": [],
   "source": []
  },
  {
   "cell_type": "code",
   "execution_count": null,
   "metadata": {},
   "outputs": [],
   "source": []
  },
  {
   "cell_type": "code",
   "execution_count": null,
   "metadata": {},
   "outputs": [],
   "source": []
  },
  {
   "cell_type": "code",
   "execution_count": null,
   "metadata": {},
   "outputs": [],
   "source": []
  },
  {
   "cell_type": "code",
   "execution_count": null,
   "metadata": {},
   "outputs": [],
   "source": []
  },
  {
   "cell_type": "code",
   "execution_count": null,
   "metadata": {},
   "outputs": [],
   "source": []
  },
  {
   "cell_type": "code",
   "execution_count": null,
   "metadata": {},
   "outputs": [],
   "source": []
  },
  {
   "cell_type": "code",
   "execution_count": null,
   "metadata": {},
   "outputs": [],
   "source": []
  },
  {
   "cell_type": "code",
   "execution_count": null,
   "metadata": {},
   "outputs": [],
   "source": []
  },
  {
   "cell_type": "code",
   "execution_count": null,
   "metadata": {},
   "outputs": [],
   "source": []
  },
  {
   "cell_type": "code",
   "execution_count": null,
   "metadata": {},
   "outputs": [],
   "source": []
  },
  {
   "cell_type": "code",
   "execution_count": null,
   "metadata": {},
   "outputs": [],
   "source": []
  },
  {
   "cell_type": "code",
   "execution_count": null,
   "metadata": {},
   "outputs": [],
   "source": []
  },
  {
   "cell_type": "code",
   "execution_count": null,
   "metadata": {},
   "outputs": [],
   "source": []
  },
  {
   "cell_type": "code",
   "execution_count": null,
   "metadata": {},
   "outputs": [],
   "source": []
  },
  {
   "cell_type": "code",
   "execution_count": null,
   "metadata": {},
   "outputs": [],
   "source": []
  },
  {
   "cell_type": "code",
   "execution_count": null,
   "metadata": {},
   "outputs": [],
   "source": []
  },
  {
   "cell_type": "code",
   "execution_count": null,
   "metadata": {},
   "outputs": [],
   "source": []
  },
  {
   "cell_type": "code",
   "execution_count": null,
   "metadata": {},
   "outputs": [],
   "source": []
  },
  {
   "cell_type": "code",
   "execution_count": null,
   "metadata": {},
   "outputs": [],
   "source": []
  },
  {
   "cell_type": "code",
   "execution_count": null,
   "metadata": {},
   "outputs": [],
   "source": []
  },
  {
   "cell_type": "code",
   "execution_count": null,
   "metadata": {},
   "outputs": [],
   "source": []
  },
  {
   "cell_type": "code",
   "execution_count": null,
   "metadata": {},
   "outputs": [],
   "source": []
  },
  {
   "cell_type": "code",
   "execution_count": null,
   "metadata": {},
   "outputs": [],
   "source": []
  },
  {
   "cell_type": "code",
   "execution_count": null,
   "metadata": {},
   "outputs": [],
   "source": []
  },
  {
   "cell_type": "code",
   "execution_count": null,
   "metadata": {},
   "outputs": [],
   "source": []
  },
  {
   "cell_type": "code",
   "execution_count": null,
   "metadata": {},
   "outputs": [],
   "source": []
  },
  {
   "cell_type": "code",
   "execution_count": null,
   "metadata": {},
   "outputs": [],
   "source": []
  },
  {
   "cell_type": "code",
   "execution_count": null,
   "metadata": {},
   "outputs": [],
   "source": []
  },
  {
   "cell_type": "code",
   "execution_count": null,
   "metadata": {},
   "outputs": [],
   "source": []
  },
  {
   "cell_type": "code",
   "execution_count": null,
   "metadata": {},
   "outputs": [],
   "source": []
  },
  {
   "cell_type": "code",
   "execution_count": null,
   "metadata": {},
   "outputs": [],
   "source": []
  },
  {
   "cell_type": "code",
   "execution_count": null,
   "metadata": {},
   "outputs": [],
   "source": []
  },
  {
   "cell_type": "code",
   "execution_count": null,
   "metadata": {},
   "outputs": [],
   "source": []
  },
  {
   "cell_type": "code",
   "execution_count": null,
   "metadata": {},
   "outputs": [],
   "source": []
  },
  {
   "cell_type": "code",
   "execution_count": null,
   "metadata": {},
   "outputs": [],
   "source": []
  },
  {
   "cell_type": "code",
   "execution_count": null,
   "metadata": {},
   "outputs": [],
   "source": []
  },
  {
   "cell_type": "code",
   "execution_count": null,
   "metadata": {},
   "outputs": [],
   "source": []
  },
  {
   "cell_type": "code",
   "execution_count": null,
   "metadata": {},
   "outputs": [],
   "source": []
  },
  {
   "cell_type": "code",
   "execution_count": null,
   "metadata": {},
   "outputs": [],
   "source": []
  },
  {
   "cell_type": "code",
   "execution_count": null,
   "metadata": {},
   "outputs": [],
   "source": []
  },
  {
   "cell_type": "code",
   "execution_count": null,
   "metadata": {},
   "outputs": [],
   "source": []
  },
  {
   "cell_type": "code",
   "execution_count": null,
   "metadata": {},
   "outputs": [],
   "source": []
  },
  {
   "cell_type": "code",
   "execution_count": null,
   "metadata": {},
   "outputs": [],
   "source": []
  },
  {
   "cell_type": "code",
   "execution_count": null,
   "metadata": {},
   "outputs": [],
   "source": []
  },
  {
   "cell_type": "code",
   "execution_count": null,
   "metadata": {},
   "outputs": [],
   "source": []
  },
  {
   "cell_type": "code",
   "execution_count": null,
   "metadata": {},
   "outputs": [],
   "source": []
  },
  {
   "cell_type": "code",
   "execution_count": null,
   "metadata": {},
   "outputs": [],
   "source": []
  },
  {
   "cell_type": "code",
   "execution_count": null,
   "metadata": {},
   "outputs": [],
   "source": []
  },
  {
   "cell_type": "code",
   "execution_count": null,
   "metadata": {},
   "outputs": [],
   "source": []
  },
  {
   "cell_type": "code",
   "execution_count": null,
   "metadata": {},
   "outputs": [],
   "source": []
  },
  {
   "cell_type": "code",
   "execution_count": null,
   "metadata": {},
   "outputs": [],
   "source": []
  },
  {
   "cell_type": "code",
   "execution_count": null,
   "metadata": {},
   "outputs": [],
   "source": []
  },
  {
   "cell_type": "code",
   "execution_count": null,
   "metadata": {},
   "outputs": [],
   "source": []
  },
  {
   "cell_type": "code",
   "execution_count": null,
   "metadata": {},
   "outputs": [],
   "source": []
  }
 ],
 "metadata": {
  "kernelspec": {
   "display_name": "mentors_env",
   "language": "python",
   "name": "python3"
  },
  "language_info": {
   "codemirror_mode": {
    "name": "ipython",
    "version": 3
   },
   "file_extension": ".py",
   "mimetype": "text/x-python",
   "name": "python",
   "nbconvert_exporter": "python",
   "pygments_lexer": "ipython3",
   "version": "3.12.6"
  }
 },
 "nbformat": 4,
 "nbformat_minor": 2
}
